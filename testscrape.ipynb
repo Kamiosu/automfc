{
 "cells": [
  {
   "cell_type": "code",
   "execution_count": 14,
   "metadata": {},
   "outputs": [],
   "source": [
    "from bs4 import BeautifulSoup\n",
    "import requests \n",
    "from lxml import etree\n"
   ]
  },
  {
   "cell_type": "code",
   "execution_count": 15,
   "metadata": {},
   "outputs": [],
   "source": [
    "def parse_html(content):\n",
    "    \"\"\"\n",
    "    Parse the HTML content using Beautiful Soup and return an lxml element.\n",
    "\n",
    "    :param content: HTML content as bytes\n",
    "    :return: lxml element\n",
    "    \"\"\"\n",
    "    soup = BeautifulSoup(content, \"html5lib\")\n",
    "    # print(soup.prettify())\n",
    "    return etree.HTML(str(soup))\n"
   ]
  },
  {
   "cell_type": "code",
   "execution_count": 16,
   "metadata": {},
   "outputs": [
    {
     "name": "stdout",
     "output_type": "stream",
     "text": [
      "￥3,900 (税込￥4,290)\n",
      "./brandnew/1224951/c1224951package.jpg\n"
     ]
    }
   ],
   "source": [
    "session_key = \"getchu.com\"\n",
    "session = requests.Session()\n",
    "cookies = {'getchu_adalt_flag': session_key}\n",
    "session.cookies.update(cookies)\n",
    "\n",
    "# Make a GET request to the web address\n",
    "html_content = session.get('https://www.getchu.com/soft.phtml?id=1224951').content\n",
    "\n",
    "# Parse the HTML content using Beautiful Soup and return an lxml element to use xpath\n",
    "lxml_element = parse_html(html_content) \n",
    "\n",
    "price = lxml_element.xpath('/html/body/div[1]/table[2]/tbody/tr[2]/th/table/tbody/tr[2]/td[2]')[0].text\n",
    "img = lxml_element.xpath('//*[@id=\"soft_table\"]/tbody/tr[1]/td/a')[0].get('href')\n",
    "print(price)\n",
    "print(img)"
   ]
  }
 ],
 "metadata": {
  "kernelspec": {
   "display_name": "automation",
   "language": "python",
   "name": "python3"
  },
  "language_info": {
   "codemirror_mode": {
    "name": "ipython",
    "version": 3
   },
   "file_extension": ".py",
   "mimetype": "text/x-python",
   "name": "python",
   "nbconvert_exporter": "python",
   "pygments_lexer": "ipython3",
   "version": "3.11.2"
  },
  "orig_nbformat": 4
 },
 "nbformat": 4,
 "nbformat_minor": 2
}
