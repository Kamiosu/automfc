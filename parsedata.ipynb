{
 "cells": [
  {
   "cell_type": "code",
   "execution_count": 35,
   "metadata": {},
   "outputs": [],
   "source": [
    "import pandas as pd\n",
    "import json"
   ]
  },
  {
   "cell_type": "code",
   "execution_count": 36,
   "metadata": {},
   "outputs": [],
   "source": [
    "# df = pd.read_csv('data.csv')\n",
    "# df.head()"
   ]
  },
  {
   "cell_type": "code",
   "execution_count": 37,
   "metadata": {},
   "outputs": [],
   "source": [
    "# Get the first row of the dataframe\n",
    "# first_row = df.iloc[0]\n",
    "\n",
    "# Strip white space and make into lowercase for each element\n",
    "# stripped_lower = [element.strip().lower() if isinstance(element, str) else element for element in first_row]\n",
    "\n",
    "# Print out the results\n",
    "# print(stripped_lower)\n",
    "# print(stripped_lower[1])"
   ]
  },
  {
   "cell_type": "code",
   "execution_count": 38,
   "metadata": {},
   "outputs": [
    {
     "name": "stdout",
     "output_type": "stream",
     "text": [
      "[{'root': 'goods  ', 'category': 'on walls', 'content_level': 'sfw', 'image_name': 'kino2.jpeg', 'origins': ['9493'], 'character': [], 'companies': ['22552'], 'artists': ['73587'], 'classifications': ['23392', '119507'], 'materials': ['41500'], 'release_year': '2023', 'release_month': '5', 'release_day': '', 'run': 'standard', 'notaxprice': 2691, 'barcode': '', 'size': 'b2', 'additional_info': '', 'title': '', 'original_title': '', 'version': '', 'original_ver': '', 'width': None, 'length': None, 'height': None, 'weight': None, 'counterfeit': False, 'link': 'https://www.melonbooks.co.jp/detail/detail.php?product_id=1886371'}]\n"
     ]
    }
   ],
   "source": [
    "\n",
    "with open('data.json') as f:\n",
    "    data = json.load(f)\n",
    "print(data)\n"
   ]
  },
  {
   "cell_type": "code",
   "execution_count": 39,
   "metadata": {},
   "outputs": [
    {
     "name": "stdout",
     "output_type": "stream",
     "text": [
      "('root', 'goods  ')\n",
      "('category', 'on walls')\n",
      "('content_level', 'sfw')\n",
      "('image_name', 'kino2.jpeg')\n",
      "('origins', ['9493'])\n",
      "('character', [])\n",
      "('companies', ['22552'])\n",
      "('artists', ['73587'])\n",
      "('classifications', ['23392', '119507'])\n",
      "('materials', ['41500'])\n",
      "('release_year', '2023')\n",
      "('release_month', '5')\n",
      "('release_day', '')\n",
      "('run', 'standard')\n",
      "('notaxprice', 2691)\n",
      "('barcode', '')\n",
      "('size', 'b2')\n",
      "('additional_info', '')\n",
      "('title', '')\n",
      "('original_title', '')\n",
      "('version', '')\n",
      "('original_ver', '')\n",
      "('width', None)\n",
      "('length', None)\n",
      "('height', None)\n",
      "('weight', None)\n",
      "('counterfeit', False)\n",
      "('link', 'https://www.melonbooks.co.jp/detail/detail.php?product_id=1886371')\n"
     ]
    }
   ],
   "source": [
    "entry1 = data[0]\n",
    "for i in entry1.items():\n",
    "    # print(f\"{i[0]}: {i[1]}\")\n",
    "    print(i)\n",
    "\n"
   ]
  },
  {
   "cell_type": "code",
   "execution_count": 40,
   "metadata": {},
   "outputs": [
    {
     "name": "stdout",
     "output_type": "stream",
     "text": [
      "9493\n"
     ]
    }
   ],
   "source": [
    "for i in entry1['origins']: \n",
    "    print(i)"
   ]
  },
  {
   "cell_type": "code",
   "execution_count": 41,
   "metadata": {},
   "outputs": [
    {
     "name": "stdout",
     "output_type": "stream",
     "text": [
      "[{'root': 'goods', 'category': 'on walls', 'content_level': 'sfw', 'image_name': 'kino2.jpeg', 'origins': ['9493'], 'character': [], 'companies': ['22552'], 'artists': ['73587'], 'classifications': ['23392', '119507'], 'materials': ['41500'], 'release_year': '2023', 'release_month': '5', 'release_day': '', 'run': 'standard', 'notaxprice': 2691, 'barcode': '', 'size': 'b2', 'additional_info': '', 'title': '', 'original_title': '', 'version': '', 'original_ver': '', 'width': None, 'length': None, 'height': None, 'weight': None, 'counterfeit': False, 'link': 'https://www.melonbooks.co.jp/detail/detail.php?product_id=1886371'}]\n"
     ]
    }
   ],
   "source": [
    "def clean_up_dict(d):\n",
    "    cleaned_dict = {}\n",
    "    for k, v in d.items():\n",
    "        if isinstance(v, str):\n",
    "            cleaned_dict[k] = v.strip().lower()\n",
    "        elif isinstance(v, list):\n",
    "            cleaned_dict[k] = [s.strip().lower() for s in v if isinstance(s, str)]\n",
    "        else:\n",
    "            cleaned_dict[k] = v\n",
    "    return cleaned_dict\n",
    "\n",
    "with open('data.json') as f:\n",
    "    data = json.load(f)\n",
    "\n",
    "cleaned_data = [clean_up_dict(d) for d in data]\n",
    "\n",
    "print(cleaned_data)"
   ]
  }
 ],
 "metadata": {
  "kernelspec": {
   "display_name": "automation",
   "language": "python",
   "name": "python3"
  },
  "language_info": {
   "codemirror_mode": {
    "name": "ipython",
    "version": 3
   },
   "file_extension": ".py",
   "mimetype": "text/x-python",
   "name": "python",
   "nbconvert_exporter": "python",
   "pygments_lexer": "ipython3",
   "version": "3.11.2"
  },
  "orig_nbformat": 4
 },
 "nbformat": 4,
 "nbformat_minor": 2
}
